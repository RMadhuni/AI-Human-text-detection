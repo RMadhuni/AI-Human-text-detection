{
 "cells": [
  {
   "cell_type": "code",
   "execution_count": null,
   "id": "e313e54b",
   "metadata": {},
   "outputs": [
    {
     "name": "stdout",
     "output_type": "stream",
     "text": [
      "Requirement already satisfied: transformers in c:\\users\\madhuni\\envs\\test\\lib\\site-packages (4.49.0)\n",
      "Requirement already satisfied: torch in c:\\users\\madhuni\\envs\\test\\lib\\site-packages (2.6.0)\n",
      "Requirement already satisfied: filelock in c:\\users\\madhuni\\envs\\test\\lib\\site-packages (from transformers) (3.17.0)\n",
      "Requirement already satisfied: huggingface-hub<1.0,>=0.26.0 in c:\\users\\madhuni\\envs\\test\\lib\\site-packages (from transformers) (0.29.2)\n",
      "Requirement already satisfied: numpy>=1.17 in c:\\users\\madhuni\\envs\\test\\lib\\site-packages (from transformers) (2.0.2)\n",
      "Requirement already satisfied: packaging>=20.0 in c:\\users\\madhuni\\envs\\test\\lib\\site-packages (from transformers) (24.2)\n",
      "Requirement already satisfied: pyyaml>=5.1 in c:\\users\\madhuni\\envs\\test\\lib\\site-packages (from transformers) (6.0.2)\n",
      "Requirement already satisfied: regex!=2019.12.17 in c:\\users\\madhuni\\envs\\test\\lib\\site-packages (from transformers) (2024.11.6)\n",
      "Requirement already satisfied: requests in c:\\users\\madhuni\\envs\\test\\lib\\site-packages (from transformers) (2.32.3)\n",
      "Requirement already satisfied: tokenizers<0.22,>=0.21 in c:\\users\\madhuni\\envs\\test\\lib\\site-packages (from transformers) (0.21.0)\n",
      "Requirement already satisfied: safetensors>=0.4.1 in c:\\users\\madhuni\\envs\\test\\lib\\site-packages (from transformers) (0.5.3)\n",
      "Requirement already satisfied: tqdm>=4.27 in c:\\users\\madhuni\\envs\\test\\lib\\site-packages (from transformers) (4.67.1)\n",
      "Requirement already satisfied: typing-extensions>=4.10.0 in c:\\users\\madhuni\\envs\\test\\lib\\site-packages (from torch) (4.12.2)\n",
      "Requirement already satisfied: networkx in c:\\users\\madhuni\\envs\\test\\lib\\site-packages (from torch) (3.2.1)\n",
      "Requirement already satisfied: jinja2 in c:\\users\\madhuni\\envs\\test\\lib\\site-packages (from torch) (3.1.6)\n",
      "Requirement already satisfied: fsspec in c:\\users\\madhuni\\envs\\test\\lib\\site-packages (from torch) (2025.3.0)\n",
      "Requirement already satisfied: sympy==1.13.1 in c:\\users\\madhuni\\envs\\test\\lib\\site-packages (from torch) (1.13.1)\n",
      "Requirement already satisfied: mpmath<1.4,>=1.1.0 in c:\\users\\madhuni\\envs\\test\\lib\\site-packages (from sympy==1.13.1->torch) (1.3.0)\n",
      "Requirement already satisfied: colorama in c:\\users\\madhuni\\envs\\test\\lib\\site-packages (from tqdm>=4.27->transformers) (0.4.6)\n",
      "Requirement already satisfied: MarkupSafe>=2.0 in c:\\users\\madhuni\\envs\\test\\lib\\site-packages (from jinja2->torch) (3.0.2)\n",
      "Requirement already satisfied: charset-normalizer<4,>=2 in c:\\users\\madhuni\\envs\\test\\lib\\site-packages (from requests->transformers) (3.4.1)\n",
      "Requirement already satisfied: idna<4,>=2.5 in c:\\users\\madhuni\\envs\\test\\lib\\site-packages (from requests->transformers) (3.10)\n",
      "Requirement already satisfied: urllib3<3,>=1.21.1 in c:\\users\\madhuni\\envs\\test\\lib\\site-packages (from requests->transformers) (2.3.0)\n",
      "Requirement already satisfied: certifi>=2017.4.17 in c:\\users\\madhuni\\envs\\test\\lib\\site-packages (from requests->transformers) (2025.1.31)\n"
     ]
    }
   ],
   "source": [
    "%pip install transformers torch\n"
   ]
  },
  {
   "cell_type": "code",
   "execution_count": 6,
   "id": "3ea9fd28",
   "metadata": {},
   "outputs": [
    {
     "name": "stdout",
     "output_type": "stream",
     "text": [
      "Prediction: AI-generated, Confidence: 0.9721\n"
     ]
    }
   ],
   "source": [
    "from transformers import AutoTokenizer, AutoModelForSequenceClassification\n",
    "from torch.nn.functional import softmax\n",
    "import torch\n",
    "\n",
    "# Load model and tokenizer\n",
    "tokenizer = AutoTokenizer.from_pretrained(\"Hello-SimpleAI/chatgpt-detector-roberta\")\n",
    "model = AutoModelForSequenceClassification.from_pretrained(\"Hello-SimpleAI/chatgpt-detector-roberta\")\n",
    "\n",
    "def detect_text_origin(input_text):\n",
    "    # Tokenize input\n",
    "    inputs = tokenizer([input_text], padding=True, truncation=True, return_tensors=\"pt\")\n",
    "    \n",
    "    # Run model inference\n",
    "    with torch.no_grad():\n",
    "        outputs = model(**inputs)\n",
    "        probs = softmax(outputs.logits, dim=1)\n",
    "        prediction = torch.argmax(probs, dim=1).item()\n",
    "        confidence = probs.max().item()\n",
    "    \n",
    "    # Interpret results\n",
    "    label = \"Human-written\" if prediction == 0 else \"AI-generated\"\n",
    "    return label, confidence\n",
    "\n",
    "# Example\n",
    "text = \"The mitochondria is the powerhouse of the cell.\"\n",
    "result, conf = detect_text_origin(text)\n",
    "print(f\"Prediction: {result}, Confidence: {conf:.4f}\")\n"
   ]
  },
  {
   "cell_type": "code",
   "execution_count": 4,
   "id": "ab357f3f",
   "metadata": {},
   "outputs": [],
   "source": [
    "from transformers import AutoTokenizer, AutoModelForSequenceClassification\n",
    "from torch.nn.functional import softmax\n",
    "import torch\n",
    "\n",
    "# Load model and tokenizer\n",
    "tokenizer = AutoTokenizer.from_pretrained(\"Hello-SimpleAI/chatgpt-detector-roberta\")\n",
    "model = AutoModelForSequenceClassification.from_pretrained(\"Hello-SimpleAI/chatgpt-detector-roberta\")\n",
    "def detect_text_origin(input_text):\n",
    "    # Tokenize input\n",
    "    inputs = tokenizer([input_text], padding=True, truncation=True, return_tensors=\"pt\")\n",
    "    \n",
    "    # Run model inference\n",
    "    with torch.no_grad():\n",
    "        outputs = model(**inputs)\n",
    "        probs = softmax(outputs.logits, dim=1)\n",
    "        prediction = torch.argmax(probs, dim=1).item()\n",
    "        confidence = probs.max().item()\n",
    "    \n",
    "    # Decide final label based on confidence threshold\n",
    "    if confidence > 0.98:\n",
    "        label = \"Human-written\" if prediction == 0 else \"AI-generated\"\n",
    "    else:\n",
    "        # Return alternate label if below confidence threshold\n",
    "        label = \"AI-generated\" if prediction == 0 else \"Human-written\"\n",
    "\n",
    "    return label, confidence\n"
   ]
  },
  {
   "cell_type": "code",
   "execution_count": 5,
   "id": "35127215",
   "metadata": {},
   "outputs": [
    {
     "data": {
      "text/plain": [
       "['fake.pkl']"
      ]
     },
     "execution_count": 5,
     "metadata": {},
     "output_type": "execute_result"
    }
   ],
   "source": [
    "import joblib\n",
    "\n",
    "# Save your fine-tuned model\n",
    "joblib.dump(model, 'fake.pkl')\n"
   ]
  },
  {
   "cell_type": "code",
   "execution_count": 3,
   "id": "d44d4a09",
   "metadata": {},
   "outputs": [
    {
     "data": {
      "text/plain": [
       "['ai_model.pkl']"
      ]
     },
     "execution_count": 3,
     "metadata": {},
     "output_type": "execute_result"
    }
   ],
   "source": [
    "import joblib\n",
    "\n",
    "# Save your fine-tuned model\n",
    "joblib.dump(model, 'ai_model.pkl')\n"
   ]
  }
 ],
 "metadata": {
  "kernelspec": {
   "display_name": "test",
   "language": "python",
   "name": "python3"
  },
  "language_info": {
   "codemirror_mode": {
    "name": "ipython",
    "version": 3
   },
   "file_extension": ".py",
   "mimetype": "text/x-python",
   "name": "python",
   "nbconvert_exporter": "python",
   "pygments_lexer": "ipython3",
   "version": "3.9.2"
  }
 },
 "nbformat": 4,
 "nbformat_minor": 5
}
